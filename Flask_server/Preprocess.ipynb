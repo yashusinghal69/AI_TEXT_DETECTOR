{
 "cells": [
  {
   "cell_type": "code",
   "execution_count": 1,
   "id": "44b2366e",
   "metadata": {},
   "outputs": [
    {
     "name": "stderr",
     "output_type": "stream",
     "text": [
      "[nltk_data] Downloading package stopwords to\n",
      "[nltk_data]     C:\\Users\\yashu\\AppData\\Roaming\\nltk_data...\n",
      "[nltk_data]   Package stopwords is already up-to-date!\n",
      "[nltk_data] Downloading package punkt to\n",
      "[nltk_data]     C:\\Users\\yashu\\AppData\\Roaming\\nltk_data...\n",
      "[nltk_data]   Package punkt is already up-to-date!\n"
     ]
    }
   ],
   "source": [
    "import re\n",
    "import pickle\n",
    "import numpy as np\n",
    "import string\n",
    "import nltk\n",
    "from nltk.corpus import stopwords\n",
    "nltk.download('stopwords') \n",
    "nltk.download('punkt') \n",
    "stop_words = set(stopwords.words('english'))\n",
    "from nltk.stem.porter import PorterStemmer\n",
    "from nltk.tokenize import word_tokenize\n",
    "porter = PorterStemmer()"
   ]
  },
  {
   "cell_type": "code",
   "execution_count": 2,
   "id": "e7c0a8ac",
   "metadata": {},
   "outputs": [],
   "source": [
    "def remove_stop_words(sentence): \n",
    "  # Split the sentence into individual words \n",
    "    words = sentence.split() \n",
    "    filtered_words = []\n",
    "  # Use a list comprehension to remove stop words \n",
    "    filtered_words = [word for word in words if word not in stop_words] \n",
    "  \n",
    "  # Join the filtered words back into a sentence \n",
    "    return ' '.join(filtered_words)\n",
    "\n",
    "def remove_html(text):\n",
    "    pattern = re.compile('<.*?>')\n",
    "    return pattern.sub(r'',text)\n",
    "def remove_punct(data):\n",
    "    return data.translate(str.maketrans('','',string.punctuation))\n",
    "def remove_url(data):\n",
    "    pattern = re.compile(r'https?://\\S+|www\\.\\S+')\n",
    "    return pattern.sub(r'',data)\n",
    "def stem_sentence(sentence):\n",
    "    tokens = word_tokenize(sentence)\n",
    "    stemmed_tokens = [porter.stem(token) for token in tokens]\n",
    "    return ' '.join(stemmed_tokens)\n",
    "\n",
    "def preprocess(data):\n",
    "    data = data.lower()\n",
    "    data = remove_html(data)\n",
    "    data = remove_url(data)\n",
    "    data = remove_punct(data)\n",
    "    data = remove_stop_words(data)\n",
    "    data = stem_sentence(data)\n",
    "    return data"
   ]
  },
  {
   "cell_type": "code",
   "execution_count": 3,
   "id": "45cf9e7e",
   "metadata": {},
   "outputs": [],
   "source": [
    "import pickle\n",
    "with open('preprocess_function.pkl', 'wb') as file:\n",
    "    pickle.dump(preprocess, file)"
   ]
  },
  {
   "cell_type": "code",
   "execution_count": null,
   "id": "3246b6b2",
   "metadata": {},
   "outputs": [],
   "source": []
  }
 ],
 "metadata": {
  "kernelspec": {
   "display_name": "Python 3 (ipykernel)",
   "language": "python",
   "name": "python3"
  },
  "language_info": {
   "codemirror_mode": {
    "name": "ipython",
    "version": 3
   },
   "file_extension": ".py",
   "mimetype": "text/x-python",
   "name": "python",
   "nbconvert_exporter": "python",
   "pygments_lexer": "ipython3",
   "version": "3.11.5"
  }
 },
 "nbformat": 4,
 "nbformat_minor": 5
}
